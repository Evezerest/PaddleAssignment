{
 "cells": [
  {
   "cell_type": "markdown",
   "metadata": {
    "collapsed": false
   },
   "source": [
    "# 实战PP-TinyPose：如何构建移动端模型\n",
    "## PP-TinyPose 简介\n",
    "![](https://ai-studio-static-online.cdn.bcebos.com/e60c1b44538d4d2dbeaeda665b1f2a2f05cc4acb17694229b955d2e9ea03c8a5)\n",
    "\n",
    "PP-TinyPose是PaddleDetecion针对移动端设备优化的实时姿态检测模型，可流畅地在移动端设备上执行多人姿态估计任务。借助PaddleDetecion自研的优秀轻量级检测模型[PicoDet](https://github.com/zoooo0820/PaddleDetection/blob/develop/configs/picodet/README.md),我们同时提供了特色的轻量级垂类行人检测模型。\n",
    "\n",
    "![](https://ai-studio-static-online.cdn.bcebos.com/28873d29c0d24464a58edc8774b45dff3d8b3f60603c4b149c7448ed06327769)\n",
    "\n",
    "\n",
    "## PaddleDetection 简介\n",
    "PaddleDetection是基于飞桨PaddlePaddle的端到端目标检测套件，提供多种主流目标检测、实例分割、跟踪、关键点检测算法，目前推出多种服务器端和移动端工业级SOTA模型，并集成了模型压缩和跨平台高性能部署能力,能帮助开发者更快更好完成端到端全开发流程。\n",
    "\n",
    "- Github地址：https://github.com/PaddlePaddle/PaddleDetection\n",
    "- Gitee地址：https://gitee.com/PaddlePaddle/PaddleDetection\n",
    "\n",
    "![](https://ai-studio-static-online.cdn.bcebos.com/fa48468402524bada232db8e10e4fbaee60f7a1b27274aa893729300d766328e)\n",
    "\n",
    "## 动手实践\n",
    "### 准备代码与运行环境\n",
    "下载PaddleDetection代码并完成环境配置"
   ]
  },
  {
   "cell_type": "code",
   "execution_count": null,
   "metadata": {
    "collapsed": false
   },
   "outputs": [
    {
     "name": "stdout",
     "output_type": "stream",
     "text": [
      "Cloning into 'PaddleDetection'...\n",
      "remote: Enumerating objects: 21213, done.\u001b[K\n",
      "remote: Counting objects: 100% (1683/1683), done.\u001b[K\n",
      "remote: Compressing objects: 100% (824/824), done.\u001b[K\n",
      "remote: Total 21213 (delta 1192), reused 1188 (delta 856), pack-reused 19530\u001b[K\n",
      "Receiving objects: 100% (21213/21213), 202.15 MiB | 10.59 MiB/s, done.\n",
      "Resolving deltas: 100% (15741/15741), done.\n",
      "Checking connectivity... done.\n"
     ]
    }
   ],
   "source": [
    "# 下载PaddleDetection代码\n",
    "!git clone https://gitee.com/paddlepaddle/PaddleDetection.git"
   ]
  },
  {
   "cell_type": "code",
   "execution_count": null,
   "metadata": {
    "collapsed": false
   },
   "outputs": [
    {
     "name": "stdout",
     "output_type": "stream",
     "text": [
      "Looking in indexes: https://mirror.baidu.com/pypi/simple\n",
      "Collecting pip\n",
      "\u001b[?25l  Downloading https://mirror.baidu.com/pypi/packages/a4/6d/6463d49a933f547439d6b5b98b46af8742cc03ae83543e4d7688c2420f8b/pip-21.3.1-py3-none-any.whl (1.7MB)\n",
      "\u001b[K     |████████████████████████████████| 1.7MB 8.4MB/s eta 0:00:01\n",
      "\u001b[?25hInstalling collected packages: pip\n",
      "  Found existing installation: pip 19.2.3\n",
      "    Uninstalling pip-19.2.3:\n",
      "      Successfully uninstalled pip-19.2.3\n",
      "Successfully installed pip-21.3.1\n",
      "Looking in indexes: https://mirror.baidu.com/pypi/simple\n",
      "Looking in links: https://www.paddlepaddle.org.cn/whl/linux/mkl/avx/stable.html\n",
      "Collecting paddlepaddle-gpu==2.2.0.post101\n",
      "  Downloading https://paddle-wheel.bj.bcebos.com/2.2.0/linux/linux-gpu-cuda10.1-cudnn7-mkl-gcc5.4-avx/paddlepaddle_gpu-2.2.0.post101-cp37-cp37m-linux_x86_64.whl (431.8 MB)\n",
      "     |████████████████████████████████| 431.8 MB 12 kB/s               3 MB 84.9 MB/s eta 0:00:05                   | 78.2 MB 84.9 MB/s eta 0:00:05 | 84.2 MB 84.9 MB/s eta 0:00:05�██████████                 | 201.9 MB 75.2 MB/s eta 0:00:04███▊                | 212.8 MB 75.2 MB/s eta 0:00:03�█       | 337.9 MB 30.1 MB/s eta 0:00:04| 368.2 MB 77.8 MB/s eta 0:00:011███████████████████▉    | 375.9 MB 77.8 MB/s eta 0:00:01| 379.3 MB 77.8 MB/s eta 0:00:01��███████████████████▏  | 393.4 MB 77.8 MB/s eta 0:00:01��█████████████████▏  | 394.2 MB 110.7 MB/s eta 0:00:01�█▎| 422.6 MB 110.7 MB/s eta 0:00:01�█████████▌| 424.9 MB 110.7 MB/s eta 0:00:01\n",
      "\u001b[?25hRequirement already satisfied: decorator in /opt/conda/envs/python35-paddle120-env/lib/python3.7/site-packages (from paddlepaddle-gpu==2.2.0.post101) (4.4.2)\n",
      "Requirement already satisfied: numpy>=1.13 in /opt/conda/envs/python35-paddle120-env/lib/python3.7/site-packages (from paddlepaddle-gpu==2.2.0.post101) (1.20.3)\n",
      "Requirement already satisfied: astor in /opt/conda/envs/python35-paddle120-env/lib/python3.7/site-packages (from paddlepaddle-gpu==2.2.0.post101) (0.8.1)\n",
      "Requirement already satisfied: protobuf>=3.1.0 in /opt/conda/envs/python35-paddle120-env/lib/python3.7/site-packages (from paddlepaddle-gpu==2.2.0.post101) (3.14.0)\n",
      "Requirement already satisfied: Pillow in /opt/conda/envs/python35-paddle120-env/lib/python3.7/site-packages (from paddlepaddle-gpu==2.2.0.post101) (7.1.2)\n",
      "Requirement already satisfied: requests>=2.20.0 in /opt/conda/envs/python35-paddle120-env/lib/python3.7/site-packages (from paddlepaddle-gpu==2.2.0.post101) (2.22.0)\n",
      "Requirement already satisfied: six in /opt/conda/envs/python35-paddle120-env/lib/python3.7/site-packages (from paddlepaddle-gpu==2.2.0.post101) (1.16.0)\n",
      "Requirement already satisfied: certifi>=2017.4.17 in /opt/conda/envs/python35-paddle120-env/lib/python3.7/site-packages (from requests>=2.20.0->paddlepaddle-gpu==2.2.0.post101) (2019.9.11)\n",
      "Requirement already satisfied: idna<2.9,>=2.5 in /opt/conda/envs/python35-paddle120-env/lib/python3.7/site-packages (from requests>=2.20.0->paddlepaddle-gpu==2.2.0.post101) (2.8)\n",
      "Requirement already satisfied: chardet<3.1.0,>=3.0.2 in /opt/conda/envs/python35-paddle120-env/lib/python3.7/site-packages (from requests>=2.20.0->paddlepaddle-gpu==2.2.0.post101) (3.0.4)\n",
      "Requirement already satisfied: urllib3!=1.25.0,!=1.25.1,<1.26,>=1.21.1 in /opt/conda/envs/python35-paddle120-env/lib/python3.7/site-packages (from requests>=2.20.0->paddlepaddle-gpu==2.2.0.post101) (1.25.6)\n",
      "Installing collected packages: paddlepaddle-gpu\n",
      "  Attempting uninstall: paddlepaddle-gpu\n",
      "    Found existing installation: paddlepaddle-gpu 2.2.1.post101\n",
      "    Uninstalling paddlepaddle-gpu-2.2.1.post101:\n",
      "      Successfully uninstalled paddlepaddle-gpu-2.2.1.post101\n",
      "Successfully installed paddlepaddle-gpu-2.2.0.post101\n",
      "Looking in indexes: https://mirror.baidu.com/pypi/simple\n",
      "Requirement already satisfied: tqdm in /opt/conda/envs/python35-paddle120-env/lib/python3.7/site-packages (from -r requirements.txt (line 1)) (4.27.0)\n",
      "Collecting tqdm\n",
      "  Downloading https://mirror.baidu.com/pypi/packages/63/f3/b7a1b8e40fd1bd049a34566eb353527bb9b8e9b98f8b6cf803bb64d8ce95/tqdm-4.62.3-py2.py3-none-any.whl (76 kB)\n",
      "     |████████████████████████████████| 76 kB 6.7 MB/s             \n",
      "\u001b[?25hCollecting typeguard\n",
      "  Downloading https://mirror.baidu.com/pypi/packages/9a/bb/d43e5c75054e53efce310e79d63df0ac3f25e34c926be5dffb7d283fb2a8/typeguard-2.13.3-py3-none-any.whl (17 kB)\n",
      "Requirement already satisfied: visualdl>=2.1.0 in /opt/conda/envs/python35-paddle120-env/lib/python3.7/site-packages (from -r requirements.txt (line 3)) (2.2.0)\n",
      "Collecting visualdl>=2.1.0\n",
      "  Downloading https://mirror.baidu.com/pypi/packages/87/c8/10d0d24822637d8e5493a73ad118640530195e45b1c71ae0e60606ff5f0e/visualdl-2.2.3-py3-none-any.whl (2.7 MB)\n",
      "     |████████████████████████████████| 2.7 MB 16.0 MB/s            \n",
      "\u001b[?25hRequirement already satisfied: opencv-python in /opt/conda/envs/python35-paddle120-env/lib/python3.7/site-packages (from -r requirements.txt (line 4)) (4.1.1.26)\n",
      "Collecting opencv-python\n",
      "  Downloading https://mirror.baidu.com/pypi/packages/9d/98/36bfcbff30da27dd6922ed73ca7802c37d87f77daf4c569da3dcb87b4296/opencv_python-4.5.5.62-cp36-abi3-manylinux_2_17_x86_64.manylinux2014_x86_64.whl (60.4 MB)\n",
      "     |████████████████████████████████| 60.4 MB 9.7 MB/s             \n",
      "\u001b[?25hRequirement already satisfied: PyYAML in /opt/conda/envs/python35-paddle120-env/lib/python3.7/site-packages (from -r requirements.txt (line 5)) (5.1.2)\n",
      "Collecting PyYAML\n",
      "  Downloading https://mirror.baidu.com/pypi/packages/eb/5f/6e6fe6904e1a9c67bc2ca5629a69e7a5a0b17f079da838bab98a1e548b25/PyYAML-6.0-cp37-cp37m-manylinux_2_5_x86_64.manylinux1_x86_64.manylinux_2_12_x86_64.manylinux2010_x86_64.whl (596 kB)\n",
      "     |████████████████████████████████| 596 kB 33.2 MB/s            \n",
      "\u001b[?25hCollecting shapely\n",
      "  Downloading https://mirror.baidu.com/pypi/packages/ae/20/33ce377bd24d122a4d54e22ae2c445b9b1be8240edb50040b40add950cd9/Shapely-1.8.0-cp37-cp37m-manylinux_2_5_x86_64.manylinux1_x86_64.whl (1.1 MB)\n",
      "     |████████████████████████████████| 1.1 MB 14.0 MB/s            \n",
      "\u001b[?25hRequirement already satisfied: scipy in /opt/conda/envs/python35-paddle120-env/lib/python3.7/site-packages (from -r requirements.txt (line 7)) (1.6.3)\n",
      "Collecting scipy\n",
      "  Downloading https://mirror.baidu.com/pypi/packages/58/4f/11f34cfc57ead25752a7992b069c36f5d18421958ebd6466ecd849aeaf86/scipy-1.7.3-cp37-cp37m-manylinux_2_12_x86_64.manylinux2010_x86_64.whl (38.1 MB)\n",
      "     |████████████████████████████████| 38.1 MB 9.2 MB/s             \n",
      "\u001b[?25hCollecting terminaltables\n",
      "  Downloading https://mirror.baidu.com/pypi/packages/c4/fb/ea621e0a19733e01fe4005d46087d383693c0f4a8f824b47d8d4122c87e0/terminaltables-3.1.10-py2.py3-none-any.whl (15 kB)\n",
      "Requirement already satisfied: Cython in /opt/conda/envs/python35-paddle120-env/lib/python3.7/site-packages (from -r requirements.txt (line 9)) (0.29)\n",
      "Collecting Cython\n",
      "  Downloading https://mirror.baidu.com/pypi/packages/ef/20/bc9125a6f7edce8786c548b7bb081cfe460fa6a291610c725333af77fed0/Cython-0.29.26-cp37-cp37m-manylinux_2_17_x86_64.manylinux2014_x86_64.manylinux_2_24_x86_64.whl (1.9 MB)\n",
      "     |████████████████████████████████| 1.9 MB 13.3 MB/s            \n",
      "\u001b[?25hCollecting pycocotools\n",
      "  Downloading https://mirror.baidu.com/pypi/packages/2e/1c/4fd663fc57be418cecf6f89d0d141ffa815d0fd6538ccddeccf767e8aace/pycocotools-2.0.3.tar.gz (106 kB)\n",
      "     |████████████████████████████████| 106 kB 14.1 MB/s            \n",
      "\u001b[?25h  Preparing metadata (setup.py) ... \u001b[?25ldone\n",
      "\u001b[?25hRequirement already satisfied: setuptools>=42.0.0 in /opt/conda/envs/python35-paddle120-env/lib/python3.7/site-packages (from -r requirements.txt (line 12)) (56.2.0)\n",
      "Collecting setuptools>=42.0.0\n",
      "  Downloading https://mirror.baidu.com/pypi/packages/04/e0/2fb461b22be560d2a1f630346bfafde0029205484ccfc4f1046e79f599a3/setuptools-60.3.1-py3-none-any.whl (953 kB)\n",
      "     |████████████████████████████████| 953 kB 38.7 MB/s            \n",
      "\u001b[?25hCollecting lap\n",
      "  Downloading https://mirror.baidu.com/pypi/packages/bf/64/d9fb6a75b15e783952b2fec6970f033462e67db32dc43dfbb404c14e91c2/lap-0.4.0.tar.gz (1.5 MB)\n",
      "     |████████████████████████████████| 1.5 MB 14.9 MB/s            \n",
      "\u001b[?25h  Preparing metadata (setup.py) ... \u001b[?25ldone\n",
      "\u001b[?25hRequirement already satisfied: sklearn in /opt/conda/envs/python35-paddle120-env/lib/python3.7/site-packages (from -r requirements.txt (line 14)) (0.0)\n",
      "Collecting motmetrics\n",
      "  Downloading https://mirror.baidu.com/pypi/packages/9c/28/9c3bc8e2a87f4c9e7b04ab72856ec7f9895a66681a65973ffaf9562ef879/motmetrics-1.2.0-py3-none-any.whl (151 kB)\n",
      "     |████████████████████████████████| 151 kB 60.9 MB/s            \n",
      "\u001b[?25hRequirement already satisfied: openpyxl in /opt/conda/envs/python35-paddle120-env/lib/python3.7/site-packages (from -r requirements.txt (line 16)) (3.0.5)\n",
      "Collecting openpyxl\n",
      "  Downloading https://mirror.baidu.com/pypi/packages/1c/a6/8ce4d2ef2c29be3235c08bb00e0b81e29d38ebc47d82b17af681bf662b74/openpyxl-3.0.9-py2.py3-none-any.whl (242 kB)\n",
      "     |████████████████████████████████| 242 kB 41.3 MB/s            \n",
      "\u001b[?25hCollecting cython_bbox\n",
      "  Downloading https://mirror.baidu.com/pypi/packages/fa/b9/fc7d60e8c3b29cc0ff24a3bb3c4b7457e10b7610fbb2893741b623487b34/cython_bbox-0.1.3.tar.gz (41 kB)\n",
      "     |████████████████████████████████| 41 kB 804 kB/s             \n",
      "\u001b[?25h  Preparing metadata (setup.py) ... \u001b[?25ldone\n",
      "\u001b[?25hRequirement already satisfied: matplotlib in /opt/conda/envs/python35-paddle120-env/lib/python3.7/site-packages (from visualdl>=2.1.0->-r requirements.txt (line 3)) (2.2.3)\n",
      "Requirement already satisfied: numpy in /opt/conda/envs/python35-paddle120-env/lib/python3.7/site-packages (from visualdl>=2.1.0->-r requirements.txt (line 3)) (1.20.3)\n",
      "Requirement already satisfied: requests in /opt/conda/envs/python35-paddle120-env/lib/python3.7/site-packages (from visualdl>=2.1.0->-r requirements.txt (line 3)) (2.22.0)\n",
      "Requirement already satisfied: pre-commit in /opt/conda/envs/python35-paddle120-env/lib/python3.7/site-packages (from visualdl>=2.1.0->-r requirements.txt (line 3)) (1.21.0)\n",
      "Requirement already satisfied: protobuf>=3.11.0 in /opt/conda/envs/python35-paddle120-env/lib/python3.7/site-packages (from visualdl>=2.1.0->-r requirements.txt (line 3)) (3.14.0)\n",
      "Requirement already satisfied: shellcheck-py in /opt/conda/envs/python35-paddle120-env/lib/python3.7/site-packages (from visualdl>=2.1.0->-r requirements.txt (line 3)) (0.7.1.1)\n",
      "Requirement already satisfied: six>=1.14.0 in /opt/conda/envs/python35-paddle120-env/lib/python3.7/site-packages (from visualdl>=2.1.0->-r requirements.txt (line 3)) (1.16.0)\n",
      "Requirement already satisfied: Flask-Babel>=1.0.0 in /opt/conda/envs/python35-paddle120-env/lib/python3.7/site-packages (from visualdl>=2.1.0->-r requirements.txt (line 3)) (1.0.0)\n",
      "Requirement already satisfied: pandas in /opt/conda/envs/python35-paddle120-env/lib/python3.7/site-packages (from visualdl>=2.1.0->-r requirements.txt (line 3)) (1.1.5)\n",
      "Requirement already satisfied: Pillow>=7.0.0 in /opt/conda/envs/python35-paddle120-env/lib/python3.7/site-packages (from visualdl>=2.1.0->-r requirements.txt (line 3)) (7.1.2)\n",
      "Requirement already satisfied: flake8>=3.7.9 in /opt/conda/envs/python35-paddle120-env/lib/python3.7/site-packages (from visualdl>=2.1.0->-r requirements.txt (line 3)) (4.0.1)\n",
      "Requirement already satisfied: bce-python-sdk in /opt/conda/envs/python35-paddle120-env/lib/python3.7/site-packages (from visualdl>=2.1.0->-r requirements.txt (line 3)) (0.8.53)\n",
      "Requirement already satisfied: flask>=1.1.1 in /opt/conda/envs/python35-paddle120-env/lib/python3.7/site-packages (from visualdl>=2.1.0->-r requirements.txt (line 3)) (1.1.1)\n",
      "Requirement already satisfied: scikit-learn in /opt/conda/envs/python35-paddle120-env/lib/python3.7/site-packages (from sklearn->-r requirements.txt (line 14)) (0.24.2)\n",
      "Collecting xmltodict>=0.12.0\n",
      "  Downloading https://mirror.baidu.com/pypi/packages/28/fd/30d5c1d3ac29ce229f6bdc40bbc20b28f716e8b363140c26eff19122d8a5/xmltodict-0.12.0-py2.py3-none-any.whl (9.2 kB)\n",
      "Collecting flake8-import-order\n",
      "  Downloading https://mirror.baidu.com/pypi/packages/ab/52/cf2d6e2c505644ca06de2f6f3546f1e4f2b7be34246c9e0757c6048868f9/flake8_import_order-0.18.1-py2.py3-none-any.whl (15 kB)\n",
      "Collecting pytest-benchmark\n",
      "  Downloading https://mirror.baidu.com/pypi/packages/2c/60/423a63fb190a0483d049786a121bd3dfd7d93bb5ff1bb5b5cd13e5df99a7/pytest_benchmark-3.4.1-py2.py3-none-any.whl (50 kB)\n",
      "     |████████████████████████████████| 50 kB 7.0 MB/s             \n",
      "\u001b[?25hCollecting pytest\n",
      "  Downloading https://mirror.baidu.com/pypi/packages/40/76/86f886e750b81a4357b6ed606b2bcf0ce6d6c27ad3c09ebf63ed674fc86e/pytest-6.2.5-py3-none-any.whl (280 kB)\n",
      "     |████████████████████████████████| 280 kB 19.0 MB/s            \n",
      "\u001b[?25hRequirement already satisfied: et-xmlfile in /opt/conda/envs/python35-paddle120-env/lib/python3.7/site-packages (from openpyxl->-r requirements.txt (line 16)) (1.0.1)\n",
      "Requirement already satisfied: pycodestyle<2.9.0,>=2.8.0 in /opt/conda/envs/python35-paddle120-env/lib/python3.7/site-packages (from flake8>=3.7.9->visualdl>=2.1.0->-r requirements.txt (line 3)) (2.8.0)\n",
      "Requirement already satisfied: mccabe<0.7.0,>=0.6.0 in /opt/conda/envs/python35-paddle120-env/lib/python3.7/site-packages (from flake8>=3.7.9->visualdl>=2.1.0->-r requirements.txt (line 3)) (0.6.1)\n",
      "Requirement already satisfied: pyflakes<2.5.0,>=2.4.0 in /opt/conda/envs/python35-paddle120-env/lib/python3.7/site-packages (from flake8>=3.7.9->visualdl>=2.1.0->-r requirements.txt (line 3)) (2.4.0)\n",
      "Requirement already satisfied: importlib-metadata<4.3 in /opt/conda/envs/python35-paddle120-env/lib/python3.7/site-packages (from flake8>=3.7.9->visualdl>=2.1.0->-r requirements.txt (line 3)) (4.2.0)\n",
      "Requirement already satisfied: itsdangerous>=0.24 in /opt/conda/envs/python35-paddle120-env/lib/python3.7/site-packages (from flask>=1.1.1->visualdl>=2.1.0->-r requirements.txt (line 3)) (1.1.0)\n",
      "Requirement already satisfied: click>=5.1 in /opt/conda/envs/python35-paddle120-env/lib/python3.7/site-packages (from flask>=1.1.1->visualdl>=2.1.0->-r requirements.txt (line 3)) (7.0)\n",
      "Requirement already satisfied: Werkzeug>=0.15 in /opt/conda/envs/python35-paddle120-env/lib/python3.7/site-packages (from flask>=1.1.1->visualdl>=2.1.0->-r requirements.txt (line 3)) (0.16.0)\n",
      "Requirement already satisfied: Jinja2>=2.10.1 in /opt/conda/envs/python35-paddle120-env/lib/python3.7/site-packages (from flask>=1.1.1->visualdl>=2.1.0->-r requirements.txt (line 3)) (2.11.0)\n",
      "Requirement already satisfied: Babel>=2.3 in /opt/conda/envs/python35-paddle120-env/lib/python3.7/site-packages (from Flask-Babel>=1.0.0->visualdl>=2.1.0->-r requirements.txt (line 3)) (2.8.0)\n",
      "Requirement already satisfied: pytz in /opt/conda/envs/python35-paddle120-env/lib/python3.7/site-packages (from Flask-Babel>=1.0.0->visualdl>=2.1.0->-r requirements.txt (line 3)) (2019.3)\n",
      "Requirement already satisfied: pyparsing!=2.0.4,!=2.1.2,!=2.1.6,>=2.0.1 in /opt/conda/envs/python35-paddle120-env/lib/python3.7/site-packages (from matplotlib->visualdl>=2.1.0->-r requirements.txt (line 3)) (3.0.6)\n",
      "Requirement already satisfied: python-dateutil>=2.1 in /opt/conda/envs/python35-paddle120-env/lib/python3.7/site-packages (from matplotlib->visualdl>=2.1.0->-r requirements.txt (line 3)) (2.8.2)\n",
      "Requirement already satisfied: kiwisolver>=1.0.1 in /opt/conda/envs/python35-paddle120-env/lib/python3.7/site-packages (from matplotlib->visualdl>=2.1.0->-r requirements.txt (line 3)) (1.1.0)\n",
      "Requirement already satisfied: cycler>=0.10 in /opt/conda/envs/python35-paddle120-env/lib/python3.7/site-packages (from matplotlib->visualdl>=2.1.0->-r requirements.txt (line 3)) (0.10.0)\n",
      "Requirement already satisfied: pycryptodome>=3.8.0 in /opt/conda/envs/python35-paddle120-env/lib/python3.7/site-packages (from bce-python-sdk->visualdl>=2.1.0->-r requirements.txt (line 3)) (3.9.9)\n",
      "Requirement already satisfied: future>=0.6.0 in /opt/conda/envs/python35-paddle120-env/lib/python3.7/site-packages (from bce-python-sdk->visualdl>=2.1.0->-r requirements.txt (line 3)) (0.18.0)\n",
      "Requirement already satisfied: identify>=1.0.0 in /opt/conda/envs/python35-paddle120-env/lib/python3.7/site-packages (from pre-commit->visualdl>=2.1.0->-r requirements.txt (line 3)) (1.4.10)\n",
      "Requirement already satisfied: nodeenv>=0.11.1 in /opt/conda/envs/python35-paddle120-env/lib/python3.7/site-packages (from pre-commit->visualdl>=2.1.0->-r requirements.txt (line 3)) (1.3.4)\n",
      "Requirement already satisfied: cfgv>=2.0.0 in /opt/conda/envs/python35-paddle120-env/lib/python3.7/site-packages (from pre-commit->visualdl>=2.1.0->-r requirements.txt (line 3)) (2.0.1)\n",
      "Requirement already satisfied: virtualenv>=15.2 in /opt/conda/envs/python35-paddle120-env/lib/python3.7/site-packages (from pre-commit->visualdl>=2.1.0->-r requirements.txt (line 3)) (16.7.9)\n",
      "Requirement already satisfied: aspy.yaml in /opt/conda/envs/python35-paddle120-env/lib/python3.7/site-packages (from pre-commit->visualdl>=2.1.0->-r requirements.txt (line 3)) (1.3.0)\n",
      "Requirement already satisfied: toml in /opt/conda/envs/python35-paddle120-env/lib/python3.7/site-packages (from pre-commit->visualdl>=2.1.0->-r requirements.txt (line 3)) (0.10.0)\n",
      "Requirement already satisfied: packaging in /opt/conda/envs/python35-paddle120-env/lib/python3.7/site-packages (from pytest->motmetrics->-r requirements.txt (line 15)) (21.3)\n",
      "Collecting iniconfig\n",
      "  Downloading https://mirror.baidu.com/pypi/packages/9b/dd/b3c12c6d707058fa947864b67f0c4e0c39ef8610988d7baea9578f3c48f3/iniconfig-1.1.1-py2.py3-none-any.whl (5.0 kB)\n",
      "Requirement already satisfied: attrs>=19.2.0 in /opt/conda/envs/python35-paddle120-env/lib/python3.7/site-packages (from pytest->motmetrics->-r requirements.txt (line 15)) (21.2.0)\n",
      "Requirement already satisfied: pluggy<2.0,>=0.12 in /opt/conda/envs/python35-paddle120-env/lib/python3.7/site-packages (from pytest->motmetrics->-r requirements.txt (line 15)) (0.13.1)\n",
      "Collecting py>=1.8.2\n",
      "  Downloading https://mirror.baidu.com/pypi/packages/f6/f0/10642828a8dfb741e5f3fbaac830550a518a775c7fff6f04a007259b0548/py-1.11.0-py2.py3-none-any.whl (98 kB)\n",
      "     |████████████████████████████████| 98 kB 17.2 MB/s            \n",
      "\u001b[?25hCollecting py-cpuinfo\n",
      "  Downloading https://mirror.baidu.com/pypi/packages/e6/ba/77120e44cbe9719152415b97d5bfb29f4053ee987d6cb63f55ce7d50fadc/py-cpuinfo-8.0.0.tar.gz (99 kB)\n",
      "     |████████████████████████████████| 99 kB 9.5 MB/s             \n",
      "\u001b[?25h  Preparing metadata (setup.py) ... \u001b[?25ldone\n",
      "\u001b[?25hRequirement already satisfied: urllib3!=1.25.0,!=1.25.1,<1.26,>=1.21.1 in /opt/conda/envs/python35-paddle120-env/lib/python3.7/site-packages (from requests->visualdl>=2.1.0->-r requirements.txt (line 3)) (1.25.6)\n",
      "Requirement already satisfied: chardet<3.1.0,>=3.0.2 in /opt/conda/envs/python35-paddle120-env/lib/python3.7/site-packages (from requests->visualdl>=2.1.0->-r requirements.txt (line 3)) (3.0.4)\n",
      "Requirement already satisfied: certifi>=2017.4.17 in /opt/conda/envs/python35-paddle120-env/lib/python3.7/site-packages (from requests->visualdl>=2.1.0->-r requirements.txt (line 3)) (2019.9.11)\n",
      "Requirement already satisfied: idna<2.9,>=2.5 in /opt/conda/envs/python35-paddle120-env/lib/python3.7/site-packages (from requests->visualdl>=2.1.0->-r requirements.txt (line 3)) (2.8)\n",
      "Requirement already satisfied: threadpoolctl>=2.0.0 in /opt/conda/envs/python35-paddle120-env/lib/python3.7/site-packages (from scikit-learn->sklearn->-r requirements.txt (line 14)) (2.1.0)\n",
      "Requirement already satisfied: joblib>=0.11 in /opt/conda/envs/python35-paddle120-env/lib/python3.7/site-packages (from scikit-learn->sklearn->-r requirements.txt (line 14)) (0.14.1)\n",
      "Requirement already satisfied: zipp>=0.5 in /opt/conda/envs/python35-paddle120-env/lib/python3.7/site-packages (from importlib-metadata<4.3->flake8>=3.7.9->visualdl>=2.1.0->-r requirements.txt (line 3)) (3.6.0)\n",
      "Requirement already satisfied: typing-extensions>=3.6.4 in /opt/conda/envs/python35-paddle120-env/lib/python3.7/site-packages (from importlib-metadata<4.3->flake8>=3.7.9->visualdl>=2.1.0->-r requirements.txt (line 3)) (4.0.1)\n",
      "Requirement already satisfied: MarkupSafe>=0.23 in /opt/conda/envs/python35-paddle120-env/lib/python3.7/site-packages (from Jinja2>=2.10.1->flask>=1.1.1->visualdl>=2.1.0->-r requirements.txt (line 3)) (2.0.1)\n",
      "Building wheels for collected packages: pycocotools, lap, cython-bbox, py-cpuinfo\n",
      "  Building wheel for pycocotools (setup.py) ... \u001b[?25ldone\n",
      "\u001b[?25h  Created wheel for pycocotools: filename=pycocotools-2.0.3-cp37-cp37m-linux_x86_64.whl size=273742 sha256=620f945c988f01fde1e693613d976101d9407370f90e2cd1897b557ff8318ab7\n",
      "  Stored in directory: /home/aistudio/.cache/pip/wheels/82/9e/a3/c37f89a98b2e83170602e700de398518218b9d44edc67bf43a\n",
      "  Building wheel for lap (setup.py) ... \u001b[?25ldone\n",
      "\u001b[?25h  Created wheel for lap: filename=lap-0.4.0-cp37-cp37m-linux_x86_64.whl size=1593907 sha256=301e1b5502a34ce11fbc77dd3e1a016e4dd020143eb82dcd780f63d46c8c496d\n",
      "  Stored in directory: /home/aistudio/.cache/pip/wheels/95/5f/20/9e2b2cfb8b2bfae5a5374e947511a47c8909e74aaf6d6d4464\n",
      "  Building wheel for cython-bbox (setup.py) ... \u001b[?25ldone\n",
      "\u001b[?25h  Created wheel for cython-bbox: filename=cython_bbox-0.1.3-cp37-cp37m-linux_x86_64.whl size=61633 sha256=02f28ecb1d867f05e8c0f61c29d9a7f1a1a8173c5d36ea36018845b246159ae7\n",
      "  Stored in directory: /home/aistudio/.cache/pip/wheels/50/87/2f/a718304decb03bdd3fa5b8fc19189ad876c4c86b4015c8a864\n",
      "  Building wheel for py-cpuinfo (setup.py) ... \u001b[?25ldone\n",
      "\u001b[?25h  Created wheel for py-cpuinfo: filename=py_cpuinfo-8.0.0-py3-none-any.whl size=22245 sha256=20ebbfeac68c76695a6e50f4896486c0cae66a0e25297b5fa397c9613e71c447\n",
      "  Stored in directory: /home/aistudio/.cache/pip/wheels/9c/57/dd/323247bc3b04fce7bc3fa4c25c106b87f2c13888c240b68723\n",
      "Successfully built pycocotools lap cython-bbox py-cpuinfo\n",
      "Installing collected packages: setuptools, PyYAML, py, iniconfig, scipy, pytest, py-cpuinfo, xmltodict, pytest-benchmark, flake8-import-order, Cython, visualdl, typeguard, tqdm, terminaltables, shapely, pycocotools, openpyxl, opencv-python, motmetrics, lap, cython-bbox\n",
      "  Attempting uninstall: setuptools\n",
      "    Found existing installation: setuptools 56.2.0\n",
      "    Uninstalling setuptools-56.2.0:\n",
      "      Successfully uninstalled setuptools-56.2.0\n",
      "  Attempting uninstall: PyYAML\n",
      "    Found existing installation: PyYAML 5.1.2\n",
      "    Uninstalling PyYAML-5.1.2:\n",
      "      Successfully uninstalled PyYAML-5.1.2\n",
      "  Attempting uninstall: scipy\n",
      "    Found existing installation: scipy 1.6.3\n",
      "    Uninstalling scipy-1.6.3:\n",
      "      Successfully uninstalled scipy-1.6.3\n",
      "  Attempting uninstall: Cython\n",
      "    Found existing installation: Cython 0.29\n",
      "    Uninstalling Cython-0.29:\n",
      "      Successfully uninstalled Cython-0.29\n",
      "  Attempting uninstall: visualdl\n",
      "    Found existing installation: visualdl 2.2.0\n",
      "    Uninstalling visualdl-2.2.0:\n",
      "      Successfully uninstalled visualdl-2.2.0\n",
      "  Attempting uninstall: tqdm\n",
      "    Found existing installation: tqdm 4.27.0\n",
      "    Uninstalling tqdm-4.27.0:\n",
      "      Successfully uninstalled tqdm-4.27.0\n",
      "  Attempting uninstall: openpyxl\n",
      "    Found existing installation: openpyxl 3.0.5\n",
      "    Uninstalling openpyxl-3.0.5:\n",
      "      Successfully uninstalled openpyxl-3.0.5\n",
      "  Attempting uninstall: opencv-python\n",
      "    Found existing installation: opencv-python 4.1.1.26\n",
      "    Uninstalling opencv-python-4.1.1.26:\n",
      "      Successfully uninstalled opencv-python-4.1.1.26\n",
      "\u001b[31mERROR: pip's dependency resolver does not currently take into account all the packages that are installed. This behaviour is the source of the following dependency conflicts.\n",
      "parl 1.4.1 requires pyzmq==18.1.1, but you have pyzmq 22.3.0 which is incompatible.\n",
      "paddlefsl 1.0.0 requires numpy~=1.19.2, but you have numpy 1.20.3 which is incompatible.\n",
      "paddlefsl 1.0.0 requires pillow==8.2.0, but you have pillow 7.1.2 which is incompatible.\n",
      "paddlefsl 1.0.0 requires requests~=2.24.0, but you have requests 2.22.0 which is incompatible.\n",
      "paddlefsl 1.0.0 requires tqdm~=4.27.0, but you have tqdm 4.62.3 which is incompatible.\n",
      "blackhole 1.0.1 requires numpy<=1.19.5, but you have numpy 1.20.3 which is incompatible.\u001b[0m\n",
      "Successfully installed Cython-0.29.26 PyYAML-6.0 cython-bbox-0.1.3 flake8-import-order-0.18.1 iniconfig-1.1.1 lap-0.4.0 motmetrics-1.2.0 opencv-python-4.5.5.62 openpyxl-3.0.9 py-1.11.0 py-cpuinfo-8.0.0 pycocotools-2.0.3 pytest-6.2.5 pytest-benchmark-3.4.1 scipy-1.7.3 setuptools-60.3.1 shapely-1.8.0 terminaltables-3.1.10 tqdm-4.62.3 typeguard-2.13.3 visualdl-2.2.3 xmltodict-0.12.0\n"
     ]
    }
   ],
   "source": [
    "# 安装相关环境依赖\n",
    "!pip install --upgrade pip -i https://mirror.baidu.com/pypi/simple\n",
    "!pip install paddlepaddle-gpu==2.2.0.post101 -f https://www.paddlepaddle.org.cn/whl/linux/mkl/avx/stable.html -i https://mirror.baidu.com/pypi/simple\n",
    "!cd PaddleDetection && pip install --upgrade -r requirements.txt -i https://mirror.baidu.com/pypi/simple"
   ]
  },
  {
   "cell_type": "markdown",
   "metadata": {
    "collapsed": false
   },
   "source": [
    "- 使用下面的命令将默认工作目录切换到PaddleDetection文件夹下"
   ]
  },
  {
   "cell_type": "code",
   "execution_count": null,
   "metadata": {
    "collapsed": false
   },
   "outputs": [
    {
     "name": "stdout",
     "output_type": "stream",
     "text": [
      "/home/aistudio/PaddleDetection\r\n"
     ]
    }
   ],
   "source": [
    "import os\n",
    "os.chdir(\"./PaddleDetection/\")\n",
    "\n",
    "!pwd"
   ]
  },
  {
   "cell_type": "markdown",
   "metadata": {
    "collapsed": false
   },
   "source": [
    "### 准备训练数据\n",
    "\n",
    "1. 如果需要实现自定义数据的训练，需要将自定义的数据集转成COCO格式，具体可参考[关键点数据准备文档]。(https://github.com/PaddlePaddle/PaddleDetection/blob/release/2.3/docs/tutorials/PrepareKeypointDataSet_cn.md)\n",
    "2. 在对应的配置文件(.yml)中，修改标注文件路径、数据路径等，使其与希望使用的自定义数据集一致。\n",
    "\n",
    "\n",
    "在本项目中，我们准备了一个mini数据集。您可以通过这个mini数据集，体验如何走通整个训练流程。"
   ]
  },
  {
   "cell_type": "code",
   "execution_count": null,
   "metadata": {
    "collapsed": false
   },
   "outputs": [
    {
     "name": "stdout",
     "output_type": "stream",
     "text": [
      "--2022-01-07 17:12:28--  https://bj.bcebos.com/v1/paddledet/data/keypoint/coco_val_person_mini.tar\n",
      "Resolving bj.bcebos.com (bj.bcebos.com)... 182.61.200.195, 182.61.200.229, 2409:8c04:1001:1002:0:ff:b001:368a\n",
      "Connecting to bj.bcebos.com (bj.bcebos.com)|182.61.200.195|:443... connected.\n",
      "HTTP request sent, awaiting response... 200 OK\n",
      "Length: 488376320 (466M) [application/x-tar]\n",
      "Saving to: ‘coco_val_person_mini.tar’\n",
      "\n",
      "coco_val_person_min 100%[===================>] 465.75M  52.5MB/s    in 9.8s    \n",
      "\n",
      "2022-01-07 17:12:38 (47.5 MB/s) - ‘coco_val_person_mini.tar’ saved [488376320/488376320]\n",
      "\n"
     ]
    }
   ],
   "source": [
    "# 下载/解压数据集,并整理数据集路径\n",
    "!wget https://bj.bcebos.com/v1/paddledet/data/keypoint/coco_val_person_mini.tar\n",
    "!tar -xf coco_val_person_mini.tar -C ./dataset/\n",
    "!mv ./dataset/coco_val_person_mini/* ./dataset/coco\n",
    "!cp ./dataset/coco/annotations/aic_coco_train_cocoformat.json ./dataset/\n",
    "!cp ./dataset/coco/annotations/instances_val2017.json ./dataset/coco/annotations/person_keypoints_val2017.json"
   ]
  },
  {
   "cell_type": "markdown",
   "metadata": {
    "collapsed": false
   },
   "source": [
    "### 开始训练\n",
    "- 训练PicoDet行人检测模型"
   ]
  },
  {
   "cell_type": "code",
   "execution_count": null,
   "metadata": {
    "collapsed": false
   },
   "outputs": [
    {
     "name": "stdout",
     "output_type": "stream",
     "text": [
      "/opt/conda/envs/python35-paddle120-env/lib/python3.7/site-packages/paddle/tensor/creation.py:130: DeprecationWarning: `np.object` is a deprecated alias for the builtin `object`. To silence this warning, use `object` by itself. Doing this will not modify any behavior and is safe. \n",
      "Deprecated in NumPy 1.20; for more details and guidance: https://numpy.org/devdocs/release/1.20.0-notes.html#deprecations\n",
      "  if data.dtype == np.object:\n",
      "Warning: import ppdet from source directory without installing, run 'python setup.py install' to install ppdet firstly\n",
      "loading annotations into memory...\n",
      "Done (t=0.37s)\n",
      "creating index...\n",
      "index created!\n",
      "W0107 17:12:46.502770   623 device_context.cc:447] Please NOTE: device: 0, GPU Compute Capability: 7.0, Driver API Version: 10.1, Runtime API Version: 10.1\n",
      "W0107 17:12:46.508961   623 device_context.cc:465] device: 0, cuDNN Version: 7.6.\n",
      "[01/07 17:12:55] ppdet.utils.download INFO: Downloading picodet_s_320_coco.pdparams from https://paddledet.bj.bcebos.com/models/picodet_s_320_coco.pdparams\n",
      "100%|█████████████████████████████████████| 4005/4005 [00:01<00:00, 3623.78KB/s]\n",
      "[01/07 17:12:57] ppdet.utils.checkpoint INFO: The shape [112] in pretrained weight head.head_cls0.bias is unmatched with the shape [33] in model head.head_cls0.bias. And the weight head.head_cls0.bias will not be loaded\n",
      "[01/07 17:12:57] ppdet.utils.checkpoint INFO: The shape [112, 96, 1, 1] in pretrained weight head.head_cls0.weight is unmatched with the shape [33, 96, 1, 1] in model head.head_cls0.weight. And the weight head.head_cls0.weight will not be loaded\n",
      "[01/07 17:12:57] ppdet.utils.checkpoint INFO: The shape [112] in pretrained weight head.head_cls1.bias is unmatched with the shape [33] in model head.head_cls1.bias. And the weight head.head_cls1.bias will not be loaded\n",
      "[01/07 17:12:57] ppdet.utils.checkpoint INFO: The shape [112, 96, 1, 1] in pretrained weight head.head_cls1.weight is unmatched with the shape [33, 96, 1, 1] in model head.head_cls1.weight. And the weight head.head_cls1.weight will not be loaded\n",
      "[01/07 17:12:57] ppdet.utils.checkpoint INFO: The shape [112] in pretrained weight head.head_cls2.bias is unmatched with the shape [33] in model head.head_cls2.bias. And the weight head.head_cls2.bias will not be loaded\n",
      "[01/07 17:12:57] ppdet.utils.checkpoint INFO: The shape [112, 96, 1, 1] in pretrained weight head.head_cls2.weight is unmatched with the shape [33, 96, 1, 1] in model head.head_cls2.weight. And the weight head.head_cls2.weight will not be loaded\n",
      "[01/07 17:12:57] ppdet.utils.checkpoint INFO: The shape [112] in pretrained weight head.head_cls3.bias is unmatched with the shape [33] in model head.head_cls3.bias. And the weight head.head_cls3.bias will not be loaded\n",
      "[01/07 17:12:57] ppdet.utils.checkpoint INFO: The shape [112, 96, 1, 1] in pretrained weight head.head_cls3.weight is unmatched with the shape [33, 96, 1, 1] in model head.head_cls3.weight. And the weight head.head_cls3.weight will not be loaded\n",
      "[01/07 17:12:57] ppdet.utils.checkpoint INFO: Finish loading model weights: /home/aistudio/.cache/paddle/weights/picodet_s_320_coco.pdparams\n",
      "[01/07 17:13:09] ppdet.engine INFO: Epoch: [0] [ 0/12] learning_rate: 0.040000 loss_vfl: 0.885326 loss_bbox: 1.283980 loss_dfl: 0.520510 loss: 2.689816 eta: 12:10:39 batch_cost: 12.1776 data_cost: 7.6614 ips: 10.5111 images/s\n",
      "[01/07 17:13:56] ppdet.engine INFO: Epoch: [1] [ 0/12] learning_rate: 0.054400 loss_vfl: 0.817594 loss_bbox: 0.893527 loss_dfl: 0.455655 loss: 2.131494 eta: 4:14:16 batch_cost: 4.2522 data_cost: 2.1835 ips: 30.1020 images/s\n",
      "[01/07 17:14:35] ppdet.engine INFO: Epoch: [2] [ 0/12] learning_rate: 0.068800 loss_vfl: 0.733858 loss_bbox: 0.679030 loss_dfl: 0.349529 loss: 1.767001 eta: 3:34:56 batch_cost: 3.6004 data_cost: 1.4787 ips: 35.5519 images/s\n",
      "[01/07 17:15:22] ppdet.engine INFO: Epoch: [3] [ 0/12] learning_rate: 0.083200 loss_vfl: 0.703595 loss_bbox: 0.534915 loss_dfl: 0.292360 loss: 1.550570 eta: 3:34:59 batch_cost: 3.6206 data_cost: 1.2650 ips: 35.3535 images/s\n",
      "[01/07 17:16:00] ppdet.engine INFO: Epoch: [4] [ 0/12] learning_rate: 0.097600 loss_vfl: 0.767122 loss_bbox: 0.471409 loss_dfl: 0.258329 loss: 1.512076 eta: 3:22:29 batch_cost: 3.2362 data_cost: 1.3536 ips: 39.5526 images/s\n",
      "[01/07 17:16:42] ppdet.engine INFO: Epoch: [5] [ 0/12] learning_rate: 0.112000 loss_vfl: 0.784469 loss_bbox: 0.453425 loss_dfl: 0.253335 loss: 1.486349 eta: 3:19:18 batch_cost: 3.3062 data_cost: 1.3674 ips: 38.7152 images/s\n",
      "[01/07 17:17:19] ppdet.engine INFO: Epoch: [6] [ 0/12] learning_rate: 0.126400 loss_vfl: 0.730896 loss_bbox: 0.447169 loss_dfl: 0.242789 loss: 1.418254 eta: 3:13:24 batch_cost: 3.2906 data_cost: 1.2957 ips: 38.8992 images/s\n",
      "[01/07 17:18:03] ppdet.engine INFO: Epoch: [7] [ 0/12] learning_rate: 0.140800 loss_vfl: 0.731928 loss_bbox: 0.427815 loss_dfl: 0.231650 loss: 1.388785 eta: 3:12:40 batch_cost: 3.3769 data_cost: 1.2478 ips: 37.9041 images/s\n",
      "[01/07 17:18:44] ppdet.engine INFO: Epoch: [8] [ 0/12] learning_rate: 0.155200 loss_vfl: 0.723247 loss_bbox: 0.429108 loss_dfl: 0.226445 loss: 1.378806 eta: 3:10:47 batch_cost: 3.3794 data_cost: 1.5199 ips: 37.8765 images/s\n",
      "[01/07 17:19:19] ppdet.engine INFO: Epoch: [9] [ 0/12] learning_rate: 0.169600 loss_vfl: 0.720299 loss_bbox: 0.432509 loss_dfl: 0.224271 loss: 1.376013 eta: 3:05:47 batch_cost: 3.1278 data_cost: 1.2894 ips: 40.9230 images/s\n",
      "[01/07 17:19:45] ppdet.utils.checkpoint INFO: Save checkpoint: output/picodet_s_320_pedestrian\n",
      "loading annotations into memory...\n",
      "Done (t=0.43s)\n",
      "creating index...\n",
      "index created!\n",
      "loading annotations into memory...\n",
      "Done (t=0.38s)\n",
      "creating index...\n",
      "index created!\n",
      "[01/07 17:19:53] ppdet.engine INFO: Eval iter: 0\n",
      "[01/07 17:20:21] ppdet.engine INFO: Eval iter: 100\n",
      "[01/07 17:20:29] ppdet.metrics.metrics INFO: The bbox result is saved to bbox.json.\n",
      "loading annotations into memory...\n",
      "Done (t=0.04s)\n",
      "creating index...\n",
      "index created!\n",
      "[01/07 17:20:29] ppdet.metrics.coco_utils INFO: Start evaluate...\n",
      "Loading and preparing results...\n",
      "DONE (t=0.77s)\n",
      "creating index...\n",
      "index created!\n",
      "Running per image evaluation...\n",
      "Evaluate annotation type *bbox*\n",
      "DONE (t=3.67s).\n",
      "Accumulating evaluation results...\n",
      "DONE (t=0.77s).\n",
      " Average Precision  (AP) @[ IoU=0.50:0.95 | area=   all | maxDets=100 ] = 0.557\n",
      " Average Precision  (AP) @[ IoU=0.50      | area=   all | maxDets=100 ] = 0.807\n",
      " Average Precision  (AP) @[ IoU=0.75      | area=   all | maxDets=100 ] = 0.606\n",
      " Average Precision  (AP) @[ IoU=0.50:0.95 | area= small | maxDets=100 ] = 0.152\n",
      " Average Precision  (AP) @[ IoU=0.50:0.95 | area=medium | maxDets=100 ] = 0.397\n",
      " Average Precision  (AP) @[ IoU=0.50:0.95 | area= large | maxDets=100 ] = 0.661\n",
      " Average Recall     (AR) @[ IoU=0.50:0.95 | area=   all | maxDets=  1 ] = 0.585\n",
      " Average Recall     (AR) @[ IoU=0.50:0.95 | area=   all | maxDets= 10 ] = 0.675\n",
      " Average Recall     (AR) @[ IoU=0.50:0.95 | area=   all | maxDets=100 ] = 0.698\n",
      " Average Recall     (AR) @[ IoU=0.50:0.95 | area= small | maxDets=100 ] = 0.266\n",
      " Average Recall     (AR) @[ IoU=0.50:0.95 | area=medium | maxDets=100 ] = 0.616\n",
      " Average Recall     (AR) @[ IoU=0.50:0.95 | area= large | maxDets=100 ] = 0.775\n",
      "[01/07 17:20:34] ppdet.engine INFO: Total sample number: 1045, averge FPS: 28.25202874012876\n",
      "[01/07 17:20:34] ppdet.engine INFO: Best test bbox ap is 0.557.\n",
      "[01/07 17:20:34] ppdet.utils.checkpoint INFO: Save checkpoint: output/picodet_s_320_pedestrian\n",
      "[01/07 17:20:36] ppdet.engine INFO: Epoch: [10] [ 0/12] learning_rate: 0.184000 loss_vfl: 0.760697 loss_bbox: 0.416560 loss_dfl: 0.222076 loss: 1.395984 eta: 2:58:21 batch_cost: 2.4492 data_cost: 0.6396 ips: 52.2611 images/s\n",
      "[01/07 17:21:17] ppdet.engine INFO: Epoch: [11] [ 0/12] learning_rate: 0.198400 loss_vfl: 0.776737 loss_bbox: 0.436878 loss_dfl: 0.232279 loss: 1.430747 eta: 2:57:21 batch_cost: 2.3990 data_cost: 0.6528 ips: 53.3562 images/s\n",
      "^C\n"
     ]
    }
   ],
   "source": [
    "!python tools/train.py -c configs/picodet/application/pedestrian_detection/picodet_s_320_pedestrian.yml \\\n",
    "        -o pretrain_weights=https://paddledet.bj.bcebos.com/models/picodet_s_320_coco.pdparams \\\n",
    "        --eval        "
   ]
  },
  {
   "cell_type": "markdown",
   "metadata": {
    "collapsed": false
   },
   "source": [
    "- 训练TinyPose关键点检测模型"
   ]
  },
  {
   "cell_type": "code",
   "execution_count": null,
   "metadata": {
    "collapsed": false
   },
   "outputs": [
    {
     "name": "stdout",
     "output_type": "stream",
     "text": [
      "/opt/conda/envs/python35-paddle120-env/lib/python3.7/site-packages/paddle/tensor/creation.py:130: DeprecationWarning: `np.object` is a deprecated alias for the builtin `object`. To silence this warning, use `object` by itself. Doing this will not modify any behavior and is safe. \n",
      "Deprecated in NumPy 1.20; for more details and guidance: https://numpy.org/devdocs/release/1.20.0-notes.html#deprecations\n",
      "  if data.dtype == np.object:\n",
      "Warning: import ppdet from source directory without installing, run 'python setup.py install' to install ppdet firstly\n",
      "loading annotations into memory...\n",
      "Done (t=0.27s)\n",
      "creating index...\n",
      "index created!\n",
      "W0107 17:21:53.715262  1789 device_context.cc:447] Please NOTE: device: 0, GPU Compute Capability: 7.0, Driver API Version: 10.1, Runtime API Version: 10.1\n",
      "W0107 17:21:53.721325  1789 device_context.cc:465] device: 0, cuDNN Version: 7.6.\n",
      "INFO:root:If regularizer of a Parameter has been set by 'paddle.ParamAttr' or 'static.WeightNormParamAttr' already. The weight_decay[L2Decay, regularization_coeff=0.000000] in Optimizer will not take effect, and it will only be applied to other Parameters!\n",
      "[01/07 17:22:00] ppdet.engine INFO: Epoch: [0] [ 0/11] learning_rate: 0.000008 loss: 0.002362 eta: 4:30:10 batch_cost: 3.5089 data_cost: 2.1810 ips: 145.9167 images/s\n",
      "[01/07 17:22:12] ppdet.engine INFO: Epoch: [0] [ 5/11] learning_rate: 0.000088 loss: 0.002291 eta: 3:16:39 batch_cost: 2.3663 data_cost: 1.6501 ips: 216.3720 images/s\n",
      "[01/07 17:22:24] ppdet.engine INFO: Epoch: [0] [10/11] learning_rate: 0.000168 loss: 0.002199 eta: 3:10:07 batch_cost: 2.3759 data_cost: 1.8887 ips: 215.4971 images/s\n",
      "[01/07 17:22:31] ppdet.engine INFO: Epoch: [1] [ 0/11] learning_rate: 0.000184 loss: 0.002193 eta: 3:38:39 batch_cost: 3.0846 data_cost: 2.5073 ips: 165.9884 images/s\n",
      "[01/07 17:22:43] ppdet.engine INFO: Epoch: [1] [ 5/11] learning_rate: 0.000264 loss: 0.002217 eta: 3:26:39 batch_cost: 2.3257 data_cost: 1.7996 ips: 220.1492 images/s\n",
      "[01/07 17:22:56] ppdet.engine INFO: Epoch: [1] [10/11] learning_rate: 0.000344 loss: 0.002171 eta: 3:24:47 batch_cost: 2.5986 data_cost: 2.0915 ips: 197.0283 images/s\n",
      "[01/07 17:23:04] ppdet.engine INFO: Epoch: [2] [ 0/11] learning_rate: 0.000360 loss: 0.002171 eta: 3:40:30 batch_cost: 3.4104 data_cost: 2.8898 ips: 150.1283 images/s\n",
      "[01/07 17:23:15] ppdet.engine INFO: Epoch: [2] [ 5/11] learning_rate: 0.000440 loss: 0.002154 eta: 3:31:44 batch_cost: 2.2539 data_cost: 1.7028 ips: 227.1589 images/s\n",
      "[01/07 17:23:29] ppdet.engine INFO: Epoch: [2] [10/11] learning_rate: 0.000519 loss: 0.002161 eta: 3:32:47 batch_cost: 2.8767 data_cost: 2.4001 ips: 177.9787 images/s\n",
      "[01/07 17:23:39] ppdet.engine INFO: Epoch: [3] [ 0/11] learning_rate: 0.000535 loss: 0.002132 eta: 3:46:15 batch_cost: 3.5478 data_cost: 3.0531 ips: 144.3166 images/s\n",
      "[01/07 17:23:53] ppdet.engine INFO: Epoch: [3] [ 5/11] learning_rate: 0.000615 loss: 0.002120 eta: 3:44:42 batch_cost: 2.8271 data_cost: 2.2210 ips: 181.1065 images/s\n",
      "[01/07 17:24:06] ppdet.engine INFO: Epoch: [3] [10/11] learning_rate: 0.000695 loss: 0.002084 eta: 3:41:25 batch_cost: 2.5920 data_cost: 2.1136 ips: 197.5303 images/s\n",
      "[01/07 17:24:14] ppdet.engine INFO: Epoch: [4] [ 0/11] learning_rate: 0.000711 loss: 0.002082 eta: 3:49:10 batch_cost: 3.4859 data_cost: 2.9215 ips: 146.8781 images/s\n",
      "[01/07 17:24:26] ppdet.engine INFO: Epoch: [4] [ 5/11] learning_rate: 0.000791 loss: 0.002075 eta: 3:44:26 batch_cost: 2.4170 data_cost: 1.8546 ips: 211.8291 images/s\n",
      "^C\n"
     ]
    }
   ],
   "source": [
    "!python tools/train.py -c configs/keypoint/tiny_pose/tinypose_128x96.yml"
   ]
  },
  {
   "cell_type": "markdown",
   "metadata": {
    "collapsed": false
   },
   "source": [
    "- 上述模型训练完成后，默认会分别保存在`output/picodet_s_320_pedestrian`和`output/tinypose_128x96`文件夹下\n",
    "\n",
    "### 模型评估\n",
    "当训练完成后，使用下面的命令评估模型的精度。这里使用了我们已经训练好的模型。如希望使用自己训练的模型，请对应将`weights=`后的值更改为对应模型`.pdparams`文件的存储路径。"
   ]
  },
  {
   "cell_type": "code",
   "execution_count": null,
   "metadata": {
    "collapsed": false
   },
   "outputs": [
    {
     "name": "stdout",
     "output_type": "stream",
     "text": [
      "/opt/conda/envs/python35-paddle120-env/lib/python3.7/site-packages/paddle/tensor/creation.py:130: DeprecationWarning: `np.object` is a deprecated alias for the builtin `object`. To silence this warning, use `object` by itself. Doing this will not modify any behavior and is safe. \n",
      "Deprecated in NumPy 1.20; for more details and guidance: https://numpy.org/devdocs/release/1.20.0-notes.html#deprecations\n",
      "  if data.dtype == np.object:\n",
      "Warning: import ppdet from source directory without installing, run 'python setup.py install' to install ppdet firstly\n",
      "W0107 17:26:12.929808  2420 device_context.cc:447] Please NOTE: device: 0, GPU Compute Capability: 7.0, Driver API Version: 10.1, Runtime API Version: 10.1\n",
      "W0107 17:26:12.934615  2420 device_context.cc:465] device: 0, cuDNN Version: 7.6.\n",
      "loading annotations into memory...\n",
      "Done (t=0.03s)\n",
      "creating index...\n",
      "index created!\n",
      "[01/07 17:26:17] ppdet.utils.checkpoint INFO: Finish loading model weights: /home/aistudio/.cache/paddle/weights/picodet_s_320_pedestrian.pdparams\n",
      "[01/07 17:26:17] ppdet.engine INFO: Eval iter: 0\n",
      "[01/07 17:26:31] ppdet.engine INFO: Eval iter: 100\n",
      "[01/07 17:26:38] ppdet.metrics.metrics INFO: The bbox result is saved to bbox.json.\n",
      "loading annotations into memory...\n",
      "Done (t=0.06s)\n",
      "creating index...\n",
      "index created!\n",
      "[01/07 17:26:38] ppdet.metrics.coco_utils INFO: Start evaluate...\n",
      "Loading and preparing results...\n",
      "DONE (t=1.12s)\n",
      "creating index...\n",
      "index created!\n",
      "Running per image evaluation...\n",
      "Evaluate annotation type *bbox*\n",
      "DONE (t=3.50s).\n",
      "Accumulating evaluation results...\n",
      "DONE (t=0.81s).\n",
      " Average Precision  (AP) @[ IoU=0.50:0.95 | area=   all | maxDets=100 ] = 0.716\n",
      " Average Precision  (AP) @[ IoU=0.50      | area=   all | maxDets=100 ] = 0.902\n",
      " Average Precision  (AP) @[ IoU=0.75      | area=   all | maxDets=100 ] = 0.775\n",
      " Average Precision  (AP) @[ IoU=0.50:0.95 | area= small | maxDets=100 ] = 0.201\n",
      " Average Precision  (AP) @[ IoU=0.50:0.95 | area=medium | maxDets=100 ] = 0.591\n",
      " Average Precision  (AP) @[ IoU=0.50:0.95 | area= large | maxDets=100 ] = 0.813\n",
      " Average Recall     (AR) @[ IoU=0.50:0.95 | area=   all | maxDets=  1 ] = 0.717\n",
      " Average Recall     (AR) @[ IoU=0.50:0.95 | area=   all | maxDets= 10 ] = 0.774\n",
      " Average Recall     (AR) @[ IoU=0.50:0.95 | area=   all | maxDets=100 ] = 0.789\n",
      " Average Recall     (AR) @[ IoU=0.50:0.95 | area= small | maxDets=100 ] = 0.334\n",
      " Average Recall     (AR) @[ IoU=0.50:0.95 | area=medium | maxDets=100 ] = 0.714\n",
      " Average Recall     (AR) @[ IoU=0.50:0.95 | area= large | maxDets=100 ] = 0.868\n",
      "[01/07 17:26:44] ppdet.engine INFO: Total sample number: 1045, averge FPS: 56.130937466103134\n"
     ]
    }
   ],
   "source": [
    "# 行人检测模型\n",
    "!python tools/eval.py -c configs/picodet/application/pedestrian_detection/picodet_s_320_pedestrian.yml \\\n",
    "  -o weights=https://paddledet.bj.bcebos.com/models/picodet_s_320_pedestrian.pdparams\n",
    "\n",
    "#关键点检测模型\n",
    "!python tools/eval.py -c configs/keypoint/tiny_pose/tinypose_128x96.yml \\\n",
    "  -o weights=https://bj.bcebos.com/v1/paddledet/models/keypoint/tinypose_128x96.pdparams"
   ]
  },
  {
   "cell_type": "markdown",
   "metadata": {
    "collapsed": false
   },
   "source": [
    "### 模型导出\n",
    "分别将行人检测、关键点检测模型导出，这里使用了我们已经训练好的模型。如希望使用自己训练的模型，请对应将`weights=`后的值更改为对应模型`.pdparams`文件的存储路径。导出的模型将默认存储在`output_inference/`路径下"
   ]
  },
  {
   "cell_type": "code",
   "execution_count": 8,
   "metadata": {
    "collapsed": false
   },
   "outputs": [
    {
     "name": "stdout",
     "output_type": "stream",
     "text": [
      "/opt/conda/envs/python35-paddle120-env/lib/python3.7/site-packages/paddle/tensor/creation.py:130: DeprecationWarning: `np.object` is a deprecated alias for the builtin `object`. To silence this warning, use `object` by itself. Doing this will not modify any behavior and is safe. \n",
      "Deprecated in NumPy 1.20; for more details and guidance: https://numpy.org/devdocs/release/1.20.0-notes.html#deprecations\n",
      "  if data.dtype == np.object:\n",
      "Warning: import ppdet from source directory without installing, run 'python setup.py install' to install ppdet firstly\n",
      "[01/07 17:25:21] ppdet.utils.checkpoint INFO: Finish loading model weights: /home/aistudio/.cache/paddle/weights/picodet_s_320_pedestrian.pdparams\n",
      "[01/07 17:25:21] ppdet.engine INFO: Export inference config file to output_inference/picodet_s_320_pedestrian/infer_cfg.yml\n",
      "W0107 17:25:25.318840  2208 device_context.cc:447] Please NOTE: device: 0, GPU Compute Capability: 7.0, Driver API Version: 10.1, Runtime API Version: 10.1\n",
      "W0107 17:25:25.318913  2208 device_context.cc:465] device: 0, cuDNN Version: 7.6.\n",
      "[01/07 17:25:29] ppdet.engine INFO: Export model and saved in output_inference/picodet_s_320_pedestrian\n",
      "/opt/conda/envs/python35-paddle120-env/lib/python3.7/site-packages/paddle/tensor/creation.py:130: DeprecationWarning: `np.object` is a deprecated alias for the builtin `object`. To silence this warning, use `object` by itself. Doing this will not modify any behavior and is safe. \n",
      "Deprecated in NumPy 1.20; for more details and guidance: https://numpy.org/devdocs/release/1.20.0-notes.html#deprecations\n",
      "  if data.dtype == np.object:\n",
      "Warning: import ppdet from source directory without installing, run 'python setup.py install' to install ppdet firstly\n",
      "[01/07 17:25:36] ppdet.utils.checkpoint INFO: Finish loading model weights: /home/aistudio/.cache/paddle/weights/tinypose_128x96.pdparams\n",
      "[01/07 17:25:36] ppdet.engine INFO: Export inference config file to output_inference/tinypose_128x96/infer_cfg.yml\n",
      "W0107 17:25:47.878485  2246 device_context.cc:447] Please NOTE: device: 0, GPU Compute Capability: 7.0, Driver API Version: 10.1, Runtime API Version: 10.1\n",
      "W0107 17:25:47.878552  2246 device_context.cc:465] device: 0, cuDNN Version: 7.6.\n",
      "[01/07 17:25:53] ppdet.engine INFO: Export model and saved in output_inference/tinypose_128x96\n"
     ]
    }
   ],
   "source": [
    "# 导出行人检测模型\n",
    "!python tools/export_model.py -c configs/picodet/application/pedestrian_detection/picodet_s_320_pedestrian.yml \\\n",
    "        -o weights=https://paddledet.bj.bcebos.com/models/picodet_s_320_pedestrian.pdparams\n",
    "\n",
    "# 导出关键点检测模型\n",
    "!python tools/export_model.py -c configs/keypoint/tiny_pose/tinypose_128x96.yml \\\n",
    "        -o weights=https://bj.bcebos.com/v1/paddledet/models/keypoint/tinypose_128x96.pdparams"
   ]
  },
  {
   "cell_type": "markdown",
   "metadata": {
    "collapsed": false
   },
   "source": [
    "### 实现预测\n",
    "在完成模型导出后，我们使用联合部署预测的方式，对图片进行预测，预测的可视化结果图像默认将存储在`output/`下。"
   ]
  },
  {
   "cell_type": "code",
   "execution_count": 9,
   "metadata": {
    "collapsed": false
   },
   "outputs": [
    {
     "name": "stdout",
     "output_type": "stream",
     "text": [
      "-----------  Running Arguments -----------\n",
      "camera_id: -1\n",
      "cpu_threads: 1\n",
      "det_model_dir: output_inference/picodet_s_320_pedestrian\n",
      "det_threshold: 0.5\n",
      "device: GPU\n",
      "enable_mkldnn: False\n",
      "image_dir: None\n",
      "image_file: demo/000000570688.jpg\n",
      "keypoint_batch_size: 1\n",
      "keypoint_model_dir: output_inference/tinypose_128x96\n",
      "keypoint_threshold: 0.35\n",
      "output_dir: output\n",
      "run_benchmark: False\n",
      "run_mode: paddle\n",
      "save_res: False\n",
      "trt_calib_mode: False\n",
      "trt_max_shape: 1280\n",
      "trt_min_shape: 1\n",
      "trt_opt_shape: 640\n",
      "use_dark: True\n",
      "video_file: None\n",
      "------------------------------------------\n",
      "-----------  Model Configuration -----------\n",
      "Model Arch: PicoDet\n",
      "Transform Order: \n",
      "--transform op: Resize\n",
      "--transform op: NormalizeImage\n",
      "--transform op: Permute\n",
      "--transform op: PadStride\n",
      "--------------------------------------------\n",
      "-----------  Model Configuration -----------\n",
      "Model Arch: HRNet\n",
      "Transform Order: \n",
      "--transform op: TopDownEvalAffine\n",
      "--transform op: NormalizeImage\n",
      "--transform op: Permute\n",
      "--------------------------------------------\n",
      "/opt/conda/envs/python35-paddle120-env/lib/python3.7/site-packages/matplotlib/__init__.py:107: DeprecationWarning: Using or importing the ABCs from 'collections' instead of from 'collections.abc' is deprecated, and in 3.8 it will stop working\n",
      "  from collections import MutableMapping\n",
      "/opt/conda/envs/python35-paddle120-env/lib/python3.7/site-packages/matplotlib/rcsetup.py:20: DeprecationWarning: Using or importing the ABCs from 'collections' instead of from 'collections.abc' is deprecated, and in 3.8 it will stop working\n",
      "  from collections import Iterable, Mapping\n",
      "/opt/conda/envs/python35-paddle120-env/lib/python3.7/site-packages/matplotlib/colors.py:53: DeprecationWarning: Using or importing the ABCs from 'collections' instead of from 'collections.abc' is deprecated, and in 3.8 it will stop working\n",
      "  from collections import Sized\n",
      "/opt/conda/envs/python35-paddle120-env/lib/python3.7/site-packages/matplotlib/__init__.py:179: DeprecationWarning: distutils Version classes are deprecated. Use packaging.version instead.\n",
      "  a = distutils.version.LooseVersion(a)\n",
      "/opt/conda/envs/python35-paddle120-env/lib/python3.7/site-packages/matplotlib/__init__.py:180: DeprecationWarning: distutils Version classes are deprecated. Use packaging.version instead.\n",
      "  b = distutils.version.LooseVersion(b)\n",
      "INFO:matplotlib.font_manager:font search path ['/opt/conda/envs/python35-paddle120-env/lib/python3.7/site-packages/matplotlib/mpl-data/fonts/ttf', '/opt/conda/envs/python35-paddle120-env/lib/python3.7/site-packages/matplotlib/mpl-data/fonts/afm', '/opt/conda/envs/python35-paddle120-env/lib/python3.7/site-packages/matplotlib/mpl-data/fonts/pdfcorefonts']\n",
      "INFO:matplotlib.font_manager:generated new fontManager\n",
      "keypoint visualize image saved to: output/000000570688_vis.jpg\n",
      "------------------ Inference Time Info ----------------------\n",
      "total_time(ms): 2625.6, img_num: 1\n",
      "average latency time(ms): 2625.60, QPS: 0.380865\n",
      "preprocess_time(ms): 2603.60, inference_time(ms): 16.50, postprocess_time(ms): 5.50\n",
      "------------------ Inference Time Info ----------------------\n",
      "total_time(ms): 210.79999999999998, img_num: 7\n",
      "average latency time(ms): 30.11, QPS: 33.206831\n",
      "preprocess_time(ms): 1.00, inference_time(ms): 26.00, postprocess_time(ms): 3.10\n"
     ]
    }
   ],
   "source": [
    "!python deploy/python/det_keypoint_unite_infer.py --det_model_dir=output_inference/picodet_s_320_pedestrian \\\n",
    "        --keypoint_model_dir=output_inference/tinypose_128x96 \\\n",
    "        --image_file=demo/000000570688.jpg --device=GPU --keypoint_threshold=0.35"
   ]
  },
  {
   "cell_type": "code",
   "execution_count": 10,
   "metadata": {
    "collapsed": false
   },
   "outputs": [
    {
     "data": {
      "text/plain": [
       "<Figure size 1500x1000 with 1 Axes>"
      ]
     },
     "metadata": {},
     "output_type": "display_data"
    }
   ],
   "source": [
    "# 可视化预测图片\n",
    "\n",
    "import cv2\n",
    "import matplotlib.pyplot as plt\n",
    "import numpy as np\n",
    "\n",
    "image = cv2.imread('output/000000570688_vis.jpg')\n",
    "plt.figure(figsize=(15,10))\n",
    "plt.imshow(cv2.cvtColor(image, cv2.COLOR_BGR2RGB))\n",
    "plt.show()"
   ]
  },
  {
   "cell_type": "markdown",
   "metadata": {
    "collapsed": false
   },
   "source": [
    "至此，我们已经走通了模型训练到预测的完整流程。\n",
    "\n",
    "### 利用Paddle Lite实现移动端部署"
   ]
  },
  {
   "cell_type": "code",
   "execution_count": null,
   "metadata": {
    "collapsed": false
   },
   "outputs": [],
   "source": [
    "# 安装Paddle Lite工具\n",
    "!pip install -U paddlelite -i https://mirror.baidu.com/pypi/simple --pre\n",
    "\n",
    "# 转化Paddle Lite推理使用的.nb模型\n",
    "!paddle_lite_opt --model_dir=output_inference/picodet_s_320_pedestrian --valid_targets=arm --optimize_out=picodet_s_320_pedestrian\n",
    "!paddle_lite_opt --model_dir=output_inference/tinypose_128x96 --valid_targets=arm --optimize_out=tinypose_128x96"
   ]
  },
  {
   "cell_type": "markdown",
   "metadata": {
    "collapsed": false
   },
   "source": [
    "这样我们就得到了供Paddle Lite使用的`.nb`文件，如果希望运行在移动端上，请参考[这里](https://github.com/PaddlePaddle/PaddleDetection/blob/release/2.3/deploy/lite/README.md)"
   ]
  },
  {
   "cell_type": "markdown",
   "metadata": {
    "collapsed": false
   },
   "source": [
    "请点击[此处](https://ai.baidu.com/docs#/AIStudio_Project_Notebook/a38e5576)查看本环境基本用法.  <br>\n",
    "Please click [here ](https://ai.baidu.com/docs#/AIStudio_Project_Notebook/a38e5576) for more detailed instructions. "
   ]
  }
 ],
 "metadata": {
  "kernelspec": {
   "display_name": "Python 3",
   "language": "python",
   "name": "py35-paddle1.2.0"
  },
  "language_info": {
   "codemirror_mode": {
    "name": "ipython",
    "version": 3
   },
   "file_extension": ".py",
   "mimetype": "text/x-python",
   "name": "python",
   "nbconvert_exporter": "python",
   "pygments_lexer": "ipython3",
   "version": "3.7.4"
  }
 },
 "nbformat": 4,
 "nbformat_minor": 1
}
